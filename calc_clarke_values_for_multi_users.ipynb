{
 "cells": [
  {
   "cell_type": "markdown",
   "metadata": {},
   "source": [
    "## Welcome to your notebook.\n"
   ]
  },
  {
   "cell_type": "markdown",
   "metadata": {},
   "source": [
    "#### Run this cell to connect to your GIS and get started:"
   ]
  },
  {
   "cell_type": "code",
   "execution_count": 1,
   "metadata": {},
   "outputs": [],
   "source": [
    "from arcgis.gis import GIS\n",
    "import traceback\n",
    "from datetime import datetime\n",
    "import json\n",
    "import os\n",
    "from datetime import datetime\n",
    "import time\n",
    "import math\n",
    "from IPython.display import HTML, display\n",
    "\n",
    "gis = GIS(\"home\")"
   ]
  },
  {
   "cell_type": "markdown",
   "metadata": {},
   "source": [
    "#### Now you are ready to start!"
   ]
  },
  {
   "cell_type": "code",
   "execution_count": 2,
   "metadata": {},
   "outputs": [],
   "source": [
    "parameters =   {\n",
    "    \"config_item\": {\n",
    "        \"itemId\": \"1c6da3ab71014c1887f97644e8c9560f\",\n",
    "        \"isLayer\": True,\n",
    "        \"LyrTblid\": 0\n",
    "  }\n",
    "}"
   ]
  },
  {
   "cell_type": "markdown",
   "metadata": {},
   "source": [
    "#### "
   ]
  },
  {
   "cell_type": "code",
   "execution_count": 3,
   "metadata": {},
   "outputs": [],
   "source": [
    "def calc_Clarke_values(taskLyrTble, element_fields, reference_dict, fieldMapping):\n",
    "    # get the fields of the target layer or table\n",
    "    existing_fields = taskLyrTble.properties.fields\n",
    "\n",
    "    # For each field in element_fields list, check if it exists in the target layer or table, ignore case\n",
    "    # If it does not exist, print out the missing field\n",
    "    # If it does exist, create a field definition with the name field_name_Clarke, and add the field to a list of fields to add\n",
    "    fields_to_add = []\n",
    "    raw_Clarke_fields_lookup = {}\n",
    "    org_element_fields_lookup = {}\n",
    "\n",
    "    # If no fieldMapping is provided, use the keys in the reference_dict as the element_fields\n",
    "    if fieldMapping is None or len(fieldMapping) == 0:\n",
    "        # Build the fieldMapping from the reference_dict, with the key and values as the field name\n",
    "        fieldMapping = {k: k for k in reference_dict.keys()}\n",
    "    else:\n",
    "        # print out the fields that are excluded\n",
    "        excluded_fields = [k for k in fieldMapping.keys() if k not in element_fields]\n",
    "        if len(excluded_fields) > 0:\n",
    "            display(HTML(\"<b>Exclude fields that are not in the reference table</b>: {}\".format(excluded_fields)))\n",
    "\n",
    "        # filter the fieldMapping to exlude those keys that are not in the elment_fields.\n",
    "        fieldMapping = {k: v for k, v in fieldMapping.items() if k in element_fields}\n",
    "        \n",
    "    # filter element_fields to find out whose names are in the fieldMapping keys\n",
    "    fieldMapping_keys = list(fieldMapping.keys())\n",
    "    element_fields = [element_field for element_field in element_fields if element_field in fieldMapping_keys]\n",
    "\n",
    "    display(HTML(\"<b>Checking if these fields exist</b>: {}\".format(element_fields)))\n",
    "    for reference_field_name in element_fields:\n",
    "        target_field_names = []\n",
    "        # get the field name in the target layer or table\n",
    "        # if fieldMapping is provided, use the field name in the fieldMapping\n",
    "        element_field_name_in_target = None\n",
    "        if fieldMapping is not None:\n",
    "            reference_field_name_lower = fieldMapping[reference_field_name].lower()\n",
    "            for field in existing_fields:\n",
    "                if field[\"name\"].lower() == reference_field_name_lower:\n",
    "                    element_field_name_in_target = field[\"name\"]\n",
    "        else:\n",
    "            reference_field_name_lower = reference_field_name.lower()\n",
    "            for field in existing_fields:\n",
    "                if field[\"name\"].lower() == reference_field_name_lower:\n",
    "                    element_field_name_in_target = field[\"name\"]\n",
    "\n",
    "        if element_field_name_in_target == None:\n",
    "            display(HTML(\"<b>Error</b>: Field {} doesn't have a corresponding field in the target layer/table\".format(reference_field_name)))\n",
    "            # remove the field from the fieldMapping\n",
    "            fieldMapping.pop(reference_field_name)\n",
    "            continue\n",
    "        else:\n",
    "            for field in existing_fields:\n",
    "                if field[\"name\"] == element_field_name_in_target:\n",
    "                    if field[\"type\"] != \"esriFieldTypeDouble\" and field[\"type\"] != \"esriFieldTypeInteger\":\n",
    "                        print(\"<b>Error</b>: Field {} is not a numeric field. Skpped\".format(field[\"name\"]))\n",
    "                        fieldMapping.pop(reference_field_name)\n",
    "                    else:\n",
    "                        # print(\"Field {} is a numeric field\".format(field[\"name\"]))\n",
    "                        target_field_names.append(field[\"name\"])\n",
    "\n",
    "\n",
    "        # Loop through target_field_names and add each field to the fields_to_add list\n",
    "        for target_field_name in target_field_names:\n",
    "            new_field_name = \"{}_Clarke\".format(target_field_name)\n",
    "            # check if the new_field_name already exists in the target layer or table, ignore case\n",
    "            new_field_name_lower = new_field_name.lower()\n",
    "            new_field_exists = False\n",
    "            for field in existing_fields:\n",
    "                if field[\"name\"].lower() == new_field_name_lower:\n",
    "                    new_field_exists = True\n",
    "                    raw_Clarke_fields_lookup[new_field_name] = reference_field_name\n",
    "                    org_element_fields_lookup[new_field_name] = target_field_name\n",
    "                    break\n",
    "\n",
    "            # if the new field does not exist, add it to the fields_to_add list\n",
    "            if not new_field_exists:\n",
    "                new_field = {\n",
    "                    \"name\": new_field_name,\n",
    "                    \"type\": \"esriFieldTypeDouble\",\n",
    "                    \"alias\": \"{} Clarke\".format(target_field_name),\n",
    "                    \"nullable\": True,\n",
    "                    \"editable\": True,\n",
    "                    \"visible\": True\n",
    "                }\n",
    "                fields_to_add.append(new_field)\n",
    "                raw_Clarke_fields_lookup[new_field_name] = reference_field_name\n",
    "                org_element_fields_lookup[new_field_name] = target_field_name\n",
    "\n",
    "\n",
    "    display(HTML(\"<b>Fields to add</b>: {}\".format(fields_to_add)))\n",
    "    display(HTML(\"<b>raw_Clarke_fields_lookup</b>: {}\".format(raw_Clarke_fields_lookup)))\n",
    "\n",
    "    # add the fields to the target layer or table\n",
    "    if len(fields_to_add) > 0:\n",
    "        add_fields_response = taskLyrTble.manager.add_to_definition({\"fields\": fields_to_add})\n",
    "        display(HTML(\"<b>Add Fields Response: {}</b>\".format(add_fields_response)))\n",
    "    else:\n",
    "        display(HTML(\"<b>No fields to add</b>\"))\n",
    "\n",
    "    # Calculate the Clarke values for each field in field mapping list: field_value / crustal_abundance\n",
    "    display(HTML(\"<b>Calculating Clarke values</b>\"))\n",
    "    for fld in fieldMapping:\n",
    "        field_name = fieldMapping[fld]\n",
    "        new_field_name = \"{}_Clarke\".format(field_name)        \n",
    "\n",
    "        crustal_abundance = reference_dict[fld]\n",
    "        if crustal_abundance is None or crustal_abundance == 0:\n",
    "            display(HTML(\"<b>Skip {}</b> because the reference crustal abundance is null or 0\"))\n",
    "            continue\n",
    "        else:\n",
    "            display(HTML(\"<b>To calculate field</b>: {}\".format(new_field_name)))\n",
    "            calc_sql_expresison = \"ROUND({}/{}, 3)\".format(field_name, crustal_abundance)\n",
    "            # print(\"field: {} = Calc Expression: {}\".format(new_field_name, calc_sql_expresison))\n",
    "            calc_field_response = taskLyrTble.calculate(where=\"{} is null\".format(new_field_name), calc_expression={\"field\": new_field_name, \"sqlExpression\" : calc_sql_expresison})\n",
    "\n",
    "            # print(\"Calc Field Response: {}\".format(calc_field_response))\n",
    "\n",
    "    return fieldMapping"
   ]
  },
  {
   "cell_type": "code",
   "execution_count": 4,
   "metadata": {},
   "outputs": [],
   "source": [
    "def calc_Clarke_value_Tiers(taskLyrTble, element_fields, reference_dict, fieldMapping):\n",
    "# get the fields of the target layer or table\n",
    "    existing_fields = taskLyrTble.properties.fields\n",
    "    fields_to_add = []\n",
    "\n",
    "    # If no fieldMapping is provided, use the keys in the reference_dict as the element_fields\n",
    "    if fieldMapping is None or len(fieldMapping) == 0:\n",
    "        # Build the fieldMapping from the reference_dict, with the key and values as the field name\n",
    "        fieldMapping = {k: k for k in reference_dict.keys()}\n",
    "\n",
    "    # filter element_fields to find out whose names are in the fieldMapping keys\n",
    "    fieldMapping_keys = list(fieldMapping.keys())\n",
    "    element_fields = [element_field for element_field in element_fields if element_field in fieldMapping_keys]\n",
    "\n",
    "    new_field_names_to_add = []\n",
    "    element_New_Field_Lookup = {}\n",
    "    display(HTML(\"<b>Checking if the ..._Clarke_Tier fields exist</b>: {}\".format(element_fields)))\n",
    "    for from_field_name in element_fields:\n",
    "        mapped_field_name = fieldMapping[from_field_name]\n",
    "        new_field_name = \"{}_Clarke_Tier\".format(mapped_field_name)\n",
    "        # check if it matches any names of the existing_fields\n",
    "        bExists = False\n",
    "        for field in existing_fields:\n",
    "            if field[\"name\"].lower() == new_field_name.lower():\n",
    "                bExists = True\n",
    "                element_New_Field_Lookup[from_field_name] = field[\"name\"]\n",
    "                break\n",
    "\n",
    "        if not bExists:\n",
    "            new_field_names_to_add.append(new_field_name)\n",
    "            element_New_Field_Lookup[from_field_name] = new_field_name\n",
    "\n",
    "    # Add the fields to the target layer or table. The field type is integer\n",
    "    if len(new_field_names_to_add) == 0:\n",
    "        display(HTML(\"<b>No ..._Clarke_Tier fields to add</b>\"))\n",
    "    else:\n",
    "        display(HTML(\"<b>Fields to add</b>: {}\".format(new_field_names_to_add)))\n",
    "        for new_field_name in new_field_names_to_add:\n",
    "            new_field = {\n",
    "                \"name\": new_field_name,\n",
    "                \"type\": \"esriFieldTypeInteger\",\n",
    "                \"alias\": new_field_name.replace(\"_\", \" \"),\n",
    "                \"nullable\": True,\n",
    "                \"editable\": True,\n",
    "                \"visible\": True,\n",
    "                'domain': {\n",
    "                    'type': 'codedValue',\n",
    "                    'name': '{}_Domain'.format(new_field_name),\n",
    "                    'codedValues': [\n",
    "                        {\n",
    "                            'name': 'L0 - Less than background',\n",
    "                            'code': 0\n",
    "                        },\n",
    "                        {\n",
    "                            'name': 'L1 - Background',\n",
    "                            'code': 1\n",
    "                        },\n",
    "                        {\n",
    "                            'name': 'L2 - 2-3x background',\n",
    "                            'code': 2\n",
    "                        },\n",
    "                        {\n",
    "                            'name': 'L3 - 4-7x background',\n",
    "                            'code': 3\n",
    "                        },\n",
    "                        {\n",
    "                            'name': 'L4 - 8-15x background',\n",
    "                            'code': 4\n",
    "                        },\n",
    "                        {\n",
    "                            'name': 'L5 - >15x background',\n",
    "                            'code': 5\n",
    "                        }\n",
    "                    ]\n",
    "                }\n",
    "            }\n",
    "            fields_to_add.append(new_field)\n",
    "\n",
    "        add_fields_response = taskLyrTble.manager.add_to_definition({\"fields\": fields_to_add})\n",
    "        display(HTML(\"<b>Add Fields Response</b>: {}\".format(add_fields_response)))\n",
    "\n",
    "    # Calculate the Tier values for each new field in element_New_Field_Lookup\n",
    "    display(HTML(\"<b>To calculate  Tier values</b>\"))\n",
    "    for fld in element_New_Field_Lookup:\n",
    "        new_field_name = element_New_Field_Lookup[fld]\n",
    "        clarke_field_name = \"{}_Clarke\".format(fieldMapping[fld])\n",
    "        display(HTML(\"<b>To calculate field</b>: {}\".format(new_field_name)))\n",
    "        # Here is the logic to calculate the Tier value based on the _Clarke value\n",
    "        # if the value is null, set the Tier value to null\n",
    "        # if the value is less than 0.5, set the Tier value to 0\n",
    "        # if the value is less than 1.5, set the Tier value to 1\n",
    "        # if the value is less than 3.5, set the Tier value to 2\n",
    "        # if the value is less than 7.5, set the Tier value to 3\n",
    "        # if the value is less than 15.5, set the Tier value to 4\n",
    "        # else, set the Tier value to 5\n",
    "        # The Tier value is an integer field\n",
    "        # Write the above logic in SQL expression\n",
    "        calc_sql_expresison = \"CASE WHEN {} IS NULL THEN 0 WHEN {} < 0.5 THEN 0 WHEN {} < 1.5 THEN 1 WHEN {} < 3.5 THEN 2 WHEN {} < 7.5 THEN 3 WHEN {} < 15.5 THEN 4 ELSE 5 END\".format(clarke_field_name, clarke_field_name, clarke_field_name, clarke_field_name, clarke_field_name, clarke_field_name)\n",
    "\n",
    "        # print(\"field: {} = Calc Expression: {}\".format(new_field_name, calc_sql_expresison))\n",
    "        calc_field_response = taskLyrTble.calculate(where=\"1=1\", calc_expression={\"field\": new_field_name, \"sqlExpression\" : calc_sql_expresison})\n",
    "\n",
    "        # print(\"Calc Field Response: {}\".format(calc_field_response))\n"
   ]
  },
  {
   "cell_type": "code",
   "execution_count": 5,
   "metadata": {},
   "outputs": [],
   "source": [
    "def copyInput(taskItem, taskItemIsLayer, taskLyrTblId):\n",
    "    display(HTML(\"<b>Copy the input {}: {}</b> ...\".format(\"layer\" if taskItemIsLayer else \"table\", taskItem.id)))    \n",
    "\n",
    "    # cloned_items = gis.content.clone_items(\n",
    "    #     items=[taskItem], search_existing_items=False\n",
    "    # )\n",
    "    username = gis.users.me.username\n",
    "    if \"@\" in username:\n",
    "        username = username.split(\"@\")[0]\n",
    "\n",
    "    #newItemName = \"{}_{}\".format(taskItem.name, username)\n",
    "    newItemName = \"{}_{}\".format(taskItem.name, 'copy')\n",
    "\n",
    "    result_item = taskItem.copy_feature_layer_collection(\n",
    "        service_name=newItemName,\n",
    "        layers=[taskLyrTblId] if taskItemIsLayer else [],\n",
    "        tables=[taskLyrTblId] if not taskItemIsLayer else [],\n",
    "    )\n",
    "\n",
    "    display(HTML(\"<b>Copied item id</b>: <a href='https://usgs.maps.arcgis.com/home/item.html?id={}' target='_blank'>{}</a></b>\".format(result_item.id, result_item.id)))\n",
    "    if taskItemIsLayer:\n",
    "        taskLyrTble = result_item.layers[0]\n",
    "        sourceLyrTble = taskItem.layers[taskLyrTblId]\n",
    "    else:\n",
    "        taskLyrTble = result_item.tables[0]\n",
    "        sourceLyrTble = taskItem.tables[taskLyrTblId]\n",
    "\n",
    "    # Read the data from the source and append to the target\n",
    "    source_resp = sourceLyrTble.query(\n",
    "        where=\"1=1\",\n",
    "        out_fields=[\"*\"],\n",
    "        return_all_records=True,\n",
    "        return_geometry=taskItemIsLayer,\n",
    "    )\n",
    "    source_features = source_resp.features\n",
    "        \n",
    "    display(HTML(\"Number of records in the source: {}\".format(len(source_features))))\n",
    "    # split the source features into batches of 2000\n",
    "    # Append the source features to the target\n",
    "    batch_size = 1000\n",
    "    for i in range(0, len(source_features), batch_size):\n",
    "        display(HTML(\"Appending features from {} to {}\".format(i, i + batch_size)))\n",
    "        \n",
    "        chunk = source_features[i : i + batch_size]\n",
    "        add_response = taskLyrTble.edit_features(adds=chunk)\n",
    "        failed_records = list(\n",
    "            filter(lambda d: d[\"success\"] == False, add_response[\"addResults\"])\n",
    "        )\n",
    "        b_Error = len(failed_records) > 0\n",
    "        if b_Error:\n",
    "            display(HTML(\"Failed records: {}\".format(failed_records)))\n",
    "            \n",
    "            raise Exception(\"Failed to append features: {}\".format(failed_records))\n",
    "\n",
    "    return result_item, taskLyrTble\n"
   ]
  },
  {
   "cell_type": "code",
   "execution_count": 6,
   "metadata": {},
   "outputs": [],
   "source": [
    "def updateItemProperties(result_item, task, gis, completedOn):\n",
    "    # check if you have the right to update the item\n",
    "    try:\n",
    "        me = gis.users.me\n",
    "        userFullName = me.fullName\n",
    "        newDescription = \"<B>Clarke Values calculated by: {} on {} using the following parameters:</b>  \\n<br>\".format(\n",
    "            userFullName, completedOn\n",
    "        )\n",
    "        newDescription += \"<ul><li>Geochemical Analysis item {} {} {}</li>\".format(\n",
    "            task[\"itemId\"],\n",
    "            \"Layer\" if task[\"isLayer\"] else \"Table\",\n",
    "            task[\"LyrTblid\"],\n",
    "        )\n",
    "        newDescription += \"<li>Clarke reference item {} Table {}</li>\".format(\n",
    "            task[\"clarke_reference_config\"][\"itemId\"],\n",
    "            task[\"clarke_reference_config\"][\"tableId\"],\n",
    "        )\n",
    "        newDescription += \"<li>Output option: {}</li>\".format(task[\"output_option\"])\n",
    "        newDescription += \"<li>fieldMapping: {}</li>\".format(\n",
    "            task[\"fieldMapping\"]\n",
    "            if task[\"fieldMapping\"] is not None and len(task[\"fieldMapping\"]) > 0\n",
    "            else \"\"\n",
    "        )\n",
    "        newDescription += \"</ul>\"\n",
    "        if result_item.description is not None:\n",
    "            newDescription += \"\\n\\n<br><br>\" + result_item.description\n",
    "        props = {\"description\": newDescription}\n",
    "\n",
    "        # Check if the tags \"geochemistry\" and \"crustal abundance\" are already in the item\n",
    "        # if not, add them\n",
    "        tags = result_item.tags\n",
    "        if \"geochemistry\" not in tags:\n",
    "            tags.append(\"geochemistry\")\n",
    "        if \"crustal abundance\" not in tags:\n",
    "            tags.append(\"crustal abundance\")\n",
    "\n",
    "        if len(tags) > 0:\n",
    "            props[\"tags\"] = tags\n",
    "            \n",
    "        update_response = result_item.update(item_properties=props)\n",
    "        display(\n",
    "            HTML(\n",
    "                \"<b>Update result item metadata</b>: {}\".format(\n",
    "                    \"Successful\" if update_response else \"Failed\"\n",
    "                )\n",
    "            )\n",
    "        )\n",
    "    except Exception as e:\n",
    "        if e.args[0].find(\"403\") > 0 and e.args[0].find(\"permissions\") > 0:\n",
    "            print(\"User does not have permissions to update the metadata of the item\")\n",
    "        else:\n",
    "            print(\"Error updating item description: {}\".format(e))\n"
   ]
  },
  {
   "cell_type": "code",
   "execution_count": 7,
   "metadata": {},
   "outputs": [
    {
     "data": {
      "text/html": [
       "\n",
       "\n",
       "To run the config: Demo copy data\n"
      ],
      "text/plain": [
       "<IPython.core.display.HTML object>"
      ]
     },
     "metadata": {},
     "output_type": "display_data"
    },
    {
     "data": {
      "text/html": [
       "<b>Copy the input layer: 20284d8ee1b74349a3fdd25b500c5afd</b> ..."
      ],
      "text/plain": [
       "<IPython.core.display.HTML object>"
      ]
     },
     "metadata": {},
     "output_type": "display_data"
    },
    {
     "data": {
      "text/html": [
       "<b>Copied item id</b>: <a href='https://usgs.maps.arcgis.com/home/item.html?id=8a747d5dbc2f4d56952cfae74fce9989' target='_blank'>8a747d5dbc2f4d56952cfae74fce9989</a></b>"
      ],
      "text/plain": [
       "<IPython.core.display.HTML object>"
      ]
     },
     "metadata": {},
     "output_type": "display_data"
    },
    {
     "data": {
      "text/html": [
       "Number of records in the source: 447"
      ],
      "text/plain": [
       "<IPython.core.display.HTML object>"
      ]
     },
     "metadata": {},
     "output_type": "display_data"
    },
    {
     "data": {
      "text/html": [
       "Appending features from 0 to 1000"
      ],
      "text/plain": [
       "<IPython.core.display.HTML object>"
      ]
     },
     "metadata": {},
     "output_type": "display_data"
    },
    {
     "data": {
      "text/html": [
       "<b>Checking if these fields exist</b>: ['Ag_ppm', 'Al_pct', 'As_ppm', 'Ba_ppm', 'Bi_ppm']"
      ],
      "text/plain": [
       "<IPython.core.display.HTML object>"
      ]
     },
     "metadata": {},
     "output_type": "display_data"
    },
    {
     "data": {
      "text/html": [
       "<b>Fields to add</b>: []"
      ],
      "text/plain": [
       "<IPython.core.display.HTML object>"
      ]
     },
     "metadata": {},
     "output_type": "display_data"
    },
    {
     "data": {
      "text/html": [
       "<b>raw_Clarke_fields_lookup</b>: {'Ag_ppm_MS_HF_Clarke': 'Ag_ppm', 'Al_pct_AES_HF_Clarke': 'Al_pct', 'As_ppm_MS_HF_Clarke': 'As_ppm', 'Ba_ppm_AES_HF_Clarke': 'Ba_ppm', 'Bi_ppm_MS_HF_Clarke': 'Bi_ppm'}"
      ],
      "text/plain": [
       "<IPython.core.display.HTML object>"
      ]
     },
     "metadata": {},
     "output_type": "display_data"
    },
    {
     "data": {
      "text/html": [
       "<b>No fields to add</b>"
      ],
      "text/plain": [
       "<IPython.core.display.HTML object>"
      ]
     },
     "metadata": {},
     "output_type": "display_data"
    },
    {
     "data": {
      "text/html": [
       "<b>Calculating Clarke values</b>"
      ],
      "text/plain": [
       "<IPython.core.display.HTML object>"
      ]
     },
     "metadata": {},
     "output_type": "display_data"
    },
    {
     "data": {
      "text/html": [
       "<b>To calculate field</b>: Ag_ppm_MS_HF_Clarke"
      ],
      "text/plain": [
       "<IPython.core.display.HTML object>"
      ]
     },
     "metadata": {},
     "output_type": "display_data"
    },
    {
     "data": {
      "text/html": [
       "<b>To calculate field</b>: Al_pct_AES_HF_Clarke"
      ],
      "text/plain": [
       "<IPython.core.display.HTML object>"
      ]
     },
     "metadata": {},
     "output_type": "display_data"
    },
    {
     "data": {
      "text/html": [
       "<b>To calculate field</b>: As_ppm_MS_HF_Clarke"
      ],
      "text/plain": [
       "<IPython.core.display.HTML object>"
      ]
     },
     "metadata": {},
     "output_type": "display_data"
    },
    {
     "data": {
      "text/html": [
       "<b>To calculate field</b>: Ba_ppm_AES_HF_Clarke"
      ],
      "text/plain": [
       "<IPython.core.display.HTML object>"
      ]
     },
     "metadata": {},
     "output_type": "display_data"
    },
    {
     "data": {
      "text/html": [
       "<b>To calculate field</b>: Bi_ppm_MS_HF_Clarke"
      ],
      "text/plain": [
       "<IPython.core.display.HTML object>"
      ]
     },
     "metadata": {},
     "output_type": "display_data"
    },
    {
     "data": {
      "text/html": [
       "<b>Checking if the ..._Clarke_Tier fields exist</b>: ['Ag_ppm', 'Al_pct', 'As_ppm', 'Ba_ppm', 'Bi_ppm']"
      ],
      "text/plain": [
       "<IPython.core.display.HTML object>"
      ]
     },
     "metadata": {},
     "output_type": "display_data"
    },
    {
     "data": {
      "text/html": [
       "<b>No ..._Clarke_Tier fields to add</b>"
      ],
      "text/plain": [
       "<IPython.core.display.HTML object>"
      ]
     },
     "metadata": {},
     "output_type": "display_data"
    },
    {
     "data": {
      "text/html": [
       "<b>To calculate  Tier values</b>"
      ],
      "text/plain": [
       "<IPython.core.display.HTML object>"
      ]
     },
     "metadata": {},
     "output_type": "display_data"
    },
    {
     "data": {
      "text/html": [
       "<b>To calculate field</b>: Ag_ppm_MS_HF_Clarke_Tier"
      ],
      "text/plain": [
       "<IPython.core.display.HTML object>"
      ]
     },
     "metadata": {},
     "output_type": "display_data"
    },
    {
     "data": {
      "text/html": [
       "<b>To calculate field</b>: Al_pct_AES_HF_Clarke_Tier"
      ],
      "text/plain": [
       "<IPython.core.display.HTML object>"
      ]
     },
     "metadata": {},
     "output_type": "display_data"
    },
    {
     "data": {
      "text/html": [
       "<b>To calculate field</b>: As_ppm_MS_HF_Clarke_Tier"
      ],
      "text/plain": [
       "<IPython.core.display.HTML object>"
      ]
     },
     "metadata": {},
     "output_type": "display_data"
    },
    {
     "data": {
      "text/html": [
       "<b>To calculate field</b>: Ba_ppm_AES_HF_Clarke_Tier"
      ],
      "text/plain": [
       "<IPython.core.display.HTML object>"
      ]
     },
     "metadata": {},
     "output_type": "display_data"
    },
    {
     "data": {
      "text/html": [
       "<b>To calculate field</b>: Bi_ppm_MS_HF_Clarke_Tier"
      ],
      "text/plain": [
       "<IPython.core.display.HTML object>"
      ]
     },
     "metadata": {},
     "output_type": "display_data"
    },
    {
     "data": {
      "text/html": [
       "<b>Calculation completed for the config</b>: Demo copy data"
      ],
      "text/plain": [
       "<IPython.core.display.HTML object>"
      ]
     },
     "metadata": {},
     "output_type": "display_data"
    },
    {
     "data": {
      "text/html": [
       "<b>Update result item metadata</b>: Successful"
      ],
      "text/plain": [
       "<IPython.core.display.HTML object>"
      ]
     },
     "metadata": {},
     "output_type": "display_data"
    },
    {
     "data": {
      "text/html": [
       "<b>Result link: <a href='https://usgs.maps.arcgis.com/home/item.html?id=8a747d5dbc2f4d56952cfae74fce9989#data' target='_blank'> Watersheds_Sediment_AK_view_1000_copy_6: Result of 2025-02-03 03:08:31</a></b>"
      ],
      "text/plain": [
       "<IPython.core.display.HTML object>"
      ]
     },
     "metadata": {},
     "output_type": "display_data"
    },
    {
     "data": {
      "text/html": [
       "<b>Link to all results: <a href='https://usgs.maps.arcgis.com/home/item.html?id=1c6da3ab71014c1887f97644e8c9560f#data' target='_blank'>All results</a></b>"
      ],
      "text/plain": [
       "<IPython.core.display.HTML object>"
      ]
     },
     "metadata": {},
     "output_type": "display_data"
    },
    {
     "name": "stdout",
     "output_type": "stream",
     "text": [
      "\n",
      "\n",
      "Program Run Time: 0.57 Minutes\n"
     ]
    }
   ],
   "source": [
    "# Get Start Time\n",
    "start_time = time.time()\n",
    "\n",
    "try:\n",
    "    # Query the config table, and build the parameters for the calculation\n",
    "    config_item = parameters['config_item']\n",
    "    config_table_itemId = config_item['itemId']\n",
    "    config_table_item = gis.content.get(config_table_itemId)\n",
    "    isLayer = config_item['isLayer']\n",
    "    LyrTblid = config_item['LyrTblid']\n",
    "    config_lyr_tbl = None\n",
    "    if isLayer:\n",
    "        config_lyr_tbl = config_table_item.layers[LyrTblid]\n",
    "    else:\n",
    "        config_lyr_tbl = config_table_item.tables[LyrTblid]\n",
    "\n",
    "\n",
    "    config_resp = config_lyr_tbl.query(where = \"skip = null or skip = 'No' \", out_fields=[\"*\"], return_all_records = True, return_geometry=False)\n",
    "\n",
    "    if len(config_resp.features) == 0:\n",
    "        print(\"No configuration to process\")\n",
    "        exit()\n",
    "    else:\n",
    "        parameters['tasks'] = []\n",
    "        # loop through the features and build the parameters\n",
    "        for f in config_resp.features:\n",
    "            task = {}\n",
    "            task[\"clarke_reference_config\"] = {\n",
    "                \"itemId\": f.attributes[\"reference_item_id\"],\n",
    "                \"tableId\": f.attributes[\"reference_table_id\"]\n",
    "            }\n",
    "            task[\"name\"] = f.attributes[\"name\"]\n",
    "            task[\"itemId\"] = f.attributes[\"item_id\"]\n",
    "            task[\"isLayer\"] = f.attributes[\"layer_or_table\"] == \"Layer\"\n",
    "            task[\"LyrTblid\"] = f.attributes[\"layer_or_table_id\"]\n",
    "            task[\"fieldMapping\"] = f.attributes[\"field_mapping\"]\n",
    "            task[\"output_option\"] = f.attributes[\"output_option\"]\n",
    "            task[\"objectid\"] = f.attributes[\"objectid\"]\n",
    "            task[\"run_results\"] = f.attributes[\"run_results\"]\n",
    "            parameters['tasks'].append(task)\n",
    "\n",
    "        tasks = parameters['tasks']\n",
    "        for task in tasks:\n",
    "            display(HTML(\"\\n\\nTo run the config: {}\\n\".format(task[\"name\"])))\n",
    "\n",
    "            # get the layers and tables\n",
    "            referenceItemId = task['clarke_reference_config'][\"itemId\"]\n",
    "            referenceTableId = task['clarke_reference_config'][\"tableId\"]\n",
    "\n",
    "            referenceItemItem=gis.content.get(referenceItemId)\n",
    "            referenceTable = referenceItemItem.tables[referenceTableId]\n",
    "\n",
    "            # Query the reference table and get the reference values\n",
    "            reference_resp = referenceTable.query(where = \"1=1\", out_fields=[\"field\", \"crustal_abundance\"], return_all_records = True, return_geometry=False)\n",
    "\n",
    "            # build the lookup from field to the crustal abundance\n",
    "            reference_dict = {f.attributes[\"field\"]: f.attributes[\"crustal_abundance\"] for f in reference_resp.features}\n",
    "\n",
    "            # build the list of fields\n",
    "            element_fields = list(reference_dict.keys())\n",
    "\n",
    "            taskItemId = task[\"itemId\"]\n",
    "            taskItemIsLayer = task[\"isLayer\"]\n",
    "            taskLyrTblId = task[\"LyrTblid\"]\n",
    "\n",
    "            taskItem=gis.content.get(taskItemId)\n",
    "            taskLyrTble = None\n",
    "\n",
    "            result_item = taskItem\n",
    "            if task[\"output_option\"] is not None and task[\"output_option\"] == \"Create new\":\n",
    "                result_item, taskLyrTble = copyInput(taskItem, taskItemIsLayer, taskLyrTblId)\n",
    "            else:\n",
    "                if taskItemIsLayer:\n",
    "                    taskLyrTble = taskItem.layers[taskLyrTblId]\n",
    "                else:\n",
    "                    taskLyrTble = taskItem.tables[taskLyrTblId]                \n",
    "                    \n",
    "            fieldMapping = {}\n",
    "            if \"fieldMapping\" in task:\n",
    "                s_fieldMapping = task[\"fieldMapping\"]\n",
    "                if s_fieldMapping is not None and len(s_fieldMapping) > 0:\n",
    "                    fieldMapping = json.loads(s_fieldMapping)\n",
    "\n",
    "            #delete_clarke_fields(taskLyrTble)\n",
    "\n",
    "            updated_fieldMapping = calc_Clarke_values(taskLyrTble, element_fields, reference_dict, fieldMapping)\n",
    "            calc_Clarke_value_Tiers(taskLyrTble, element_fields, reference_dict, updated_fieldMapping)\n",
    "            #calc_Clarke_value_percentiles_nthStdDev(taskLyrTble, taskItem, element_fields, reference_dict, fieldMapping)\n",
    "\n",
    "            display(HTML(\"<b>Calculation completed for the config</b>: {}\".format(task[\"name\"])))\n",
    "            \n",
    "            completedOn = datetime.now().strftime(\"%Y-%m-%d %H:%M:%S\")\n",
    "            \n",
    "            updateItemProperties(result_item, task, gis, completedOn)\n",
    "                        \n",
    "            result_links = \"<a href='https://usgs.maps.arcgis.com/home/item.html?id={}#data' target='_blank'> {}: Result of {}</a>\".format(\n",
    "                result_item.id,\n",
    "                result_item.title,\n",
    "                completedOn\n",
    "            )\n",
    "\n",
    "            display(HTML(\"<b>Result link: {}</b>\".format(result_links)))\n",
    "            if task[\"run_results\"] is not None and len(task[\"run_results\"]) > 0:\n",
    "                result_links = task[\"run_results\"] + \"<br>\\n\" + result_links\n",
    "                display(HTML(\"<b>Link to all results: <a href='https://usgs.maps.arcgis.com/home/item.html?id={}#data' target='_blank'>All results</a></b>\".format(parameters[\"config_item\"][\"itemId\"])))\n",
    "                \n",
    "                \n",
    "            # save the result link to config_lyr_tbl\n",
    "            edit_resp = config_lyr_tbl.edit_features(\n",
    "                updates=[\n",
    "                    {\n",
    "                        \"attributes\": {\n",
    "                            \"run_results\": result_links,\n",
    "                            \"objectid\": task[\"objectid\"],\n",
    "                        }\n",
    "                    }\n",
    "                ],\n",
    "                use_global_ids=False\n",
    "            )\n",
    "            # check if there are any errors in the edit response\n",
    "            if \"error\" in edit_resp[\"updateResults\"][0]:\n",
    "                raise Exception(\n",
    "                    \"Failed to update the results link: {}\".format(\n",
    "                        edit_resp[\"updateResults\"][0]\n",
    "                    )\n",
    "                )\n",
    "       \n",
    "\n",
    "\n",
    "except Exception:\n",
    "    print(traceback.format_exc())\n",
    "\n",
    "finally:\n",
    "    # Log Run Time\n",
    "    print('\\n\\nProgram Run Time: {0} Minutes'.format(round(((time.time() - start_time) / 60), 2)))\n"
   ]
  },
  {
   "cell_type": "code",
   "execution_count": null,
   "metadata": {},
   "outputs": [],
   "source": []
  },
  {
   "cell_type": "code",
   "execution_count": null,
   "metadata": {},
   "outputs": [],
   "source": []
  }
 ],
 "metadata": {
  "esriNotebookRuntime": {
   "notebookRuntimeName": "ArcGIS Notebook Python 3 Standard",
   "notebookRuntimeVersion": "9.0"
  },
  "kernelspec": {
   "display_name": "Python 3 (ipykernel)",
   "language": "python",
   "name": "python3"
  },
  "language_info": {
   "codemirror_mode": {
    "name": "ipython",
    "version": 3
   },
   "file_extension": ".py",
   "mimetype": "text/x-python",
   "name": "python",
   "nbconvert_exporter": "python",
   "pygments_lexer": "ipython3",
   "version": "3.9.18"
  }
 },
 "nbformat": 4,
 "nbformat_minor": 2
}
